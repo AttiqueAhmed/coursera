{
 "cells": [
  {
   "cell_type": "markdown",
   "id": "b187b35f",
   "metadata": {},
   "source": [
    "# My Jupyter Notebook on IBM Watson Studio"
   ]
  },
  {
   "cell_type": "markdown",
   "id": "fbf77cda",
   "metadata": {},
   "source": [
    "<b>Attique Ahmed</b> <br>\n",
    "Teacher"
   ]
  },
  {
   "cell_type": "markdown",
   "id": "0265cc43",
   "metadata": {},
   "source": [
    "<i>I am interested in data science because it is an important field"
   ]
  },
  {
   "cell_type": "markdown",
   "id": "e753e762",
   "metadata": {},
   "source": [
    "### the code below add two numbers"
   ]
  },
  {
   "cell_type": "code",
   "execution_count": 6,
   "id": "ef920c12",
   "metadata": {},
   "outputs": [
    {
     "name": "stdout",
     "output_type": "stream",
     "text": [
      "3\n"
     ]
    }
   ],
   "source": [
    "n = 1\n",
    "n2 = 2\n",
    "print(n+n2)"
   ]
  },
  {
   "cell_type": "markdown",
   "id": "cfc0d9c6",
   "metadata": {},
   "source": [
    "https://github.com/AttiqueAhmed"
   ]
  },
  {
   "cell_type": "code",
   "execution_count": null,
   "id": "384b290e",
   "metadata": {},
   "outputs": [],
   "source": []
  }
 ],
 "metadata": {
  "kernelspec": {
   "display_name": "Python 3 (ipykernel)",
   "language": "python",
   "name": "python3"
  },
  "language_info": {
   "codemirror_mode": {
    "name": "ipython",
    "version": 3
   },
   "file_extension": ".py",
   "mimetype": "text/x-python",
   "name": "python",
   "nbconvert_exporter": "python",
   "pygments_lexer": "ipython3",
   "version": "3.9.12"
  }
 },
 "nbformat": 4,
 "nbformat_minor": 5
}
